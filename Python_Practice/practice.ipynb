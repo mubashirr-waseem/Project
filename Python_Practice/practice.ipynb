{
 "cells": [
  {
   "cell_type": "markdown",
   "id": "69b9d26b",
   "metadata": {},
   "source": [
    "### Convert temperature from Celsius to Fahrenheit."
   ]
  },
  {
   "cell_type": "code",
   "execution_count": 14,
   "id": "e89ac579",
   "metadata": {},
   "outputs": [
    {
     "name": "stdout",
     "output_type": "stream",
     "text": [
      "41.0°C is equal to 105.8°F\n"
     ]
    }
   ],
   "source": [
    "temp_1 = input(\"Enter temperature in Celsius: \")\n",
    "try:\n",
    "    temp_1 = float(temp_1)\n",
    "    fahrenheit = (temp_1 * 9/5) + 32\n",
    "    print(f\"{temp_1}°C is equal to {fahrenheit}°F\")\n",
    "except ValueError:\n",
    "    print(\"Please enter a valid number for the temperature in Celsius.\")\n",
    "\n"
   ]
  },
  {
   "cell_type": "code",
   "execution_count": null,
   "id": "2593be5e",
   "metadata": {},
   "outputs": [
    {
     "name": "stdout",
     "output_type": "stream",
     "text": [
      "41°C is equal to 105.8°F\n"
     ]
    }
   ],
   "source": [
    "temp = 41  # Example Celsius temperature\n",
    "\n",
    "# Function to convert Celsius to Fahrenheit\n",
    "def convert(temp):\n",
    "    \"\"\"Convert Celsius to Fahrenheit.\"\"\"\n",
    "    return (temp * 9/5) + 32\n",
    "\n",
    "# Print the answer\n",
    "fahrenheit = convert(temp)\n",
    "print(f\"{temp}°C is equal to {fahrenheit}°F\")"
   ]
  },
  {
   "cell_type": "markdown",
   "id": "fdd9d0c2",
   "metadata": {},
   "source": [
    "### Find the sum of numbers from 1 to 100"
   ]
  },
  {
   "cell_type": "code",
   "execution_count": null,
   "id": "c94752a0",
   "metadata": {},
   "outputs": [
    {
     "name": "stdout",
     "output_type": "stream",
     "text": [
      "The sum of numbers from 1 to 99 is: 5050\n"
     ]
    }
   ],
   "source": [
    "val = 0\n",
    "\n",
    "for i in range(1, 101):\n",
    "    val += i\n",
    "print(f\"The sum of numbers from 1 to 99 is: {val}\")"
   ]
  },
  {
   "cell_type": "code",
   "execution_count": null,
   "id": "06511127",
   "metadata": {},
   "outputs": [
    {
     "name": "stdout",
     "output_type": "stream",
     "text": [
      "Sum from 1 to 100 is: 5050\n"
     ]
    }
   ],
   "source": [
    "n = 100\n",
    "total = n * (n + 1) // 2  # Using integer division\n",
    "print(\"Sum from 1 to 100 is:\", total)\n"
   ]
  },
  {
   "cell_type": "markdown",
   "id": "8b2b9579",
   "metadata": {},
   "source": [
    "### Check if a number is even or odd."
   ]
  },
  {
   "cell_type": "code",
   "execution_count": 72,
   "id": "5a2bbfe2",
   "metadata": {},
   "outputs": [
    {
     "name": "stdout",
     "output_type": "stream",
     "text": [
      "2 even.\n"
     ]
    }
   ],
   "source": [
    "even_odd = int(input(\"Enter a number to check if it is even or odd: \"))\n",
    "\n",
    "if even_odd % 2 == 0:\n",
    "    print(f\"{even_odd} even.\")\n",
    "else:\n",
    "    print(f\"{even_odd} odd.\")"
   ]
  },
  {
   "cell_type": "markdown",
   "id": "0afc4eb5",
   "metadata": {},
   "source": [
    "### Write a function that takes two numbers and returns their sum"
   ]
  },
  {
   "cell_type": "code",
   "execution_count": 80,
   "id": "a8e720ec",
   "metadata": {},
   "outputs": [
    {
     "name": "stdout",
     "output_type": "stream",
     "text": [
      "The sum of 9 and 2 is: 11\n"
     ]
    }
   ],
   "source": [
    "a, b = map(int, input(\"Enter two numbers separated by space: \").split())\n",
    "\n",
    "print(f\"The sum of {a} and {b} is: {a + b}\")\n"
   ]
  },
  {
   "cell_type": "markdown",
   "id": "a3871efa",
   "metadata": {},
   "source": [
    "### LAMBDA"
   ]
  },
  {
   "cell_type": "code",
   "execution_count": 82,
   "id": "816fc32b",
   "metadata": {},
   "outputs": [
    {
     "name": "stdout",
     "output_type": "stream",
     "text": [
      "[1, 4, 9, 16, 25, 36, 49, 64, 81, 100]\n"
     ]
    }
   ],
   "source": [
    "squares = list(map(lambda x: x**2, [1, 2, 3, 4, 5, 6, 7, 8, 9, 10]))\n",
    "print(squares)\n"
   ]
  },
  {
   "cell_type": "code",
   "execution_count": 85,
   "id": "3b01f415",
   "metadata": {},
   "outputs": [
    {
     "name": "stdout",
     "output_type": "stream",
     "text": [
      "Squares of the list: [4, 16, 36, 64, 100]\n"
     ]
    }
   ],
   "source": [
    "num2 = [2, 4, 6, 8, 10]\n",
    "square2 = list(map(lambda x: x**2, num2))\n",
    "print(\"Squares of the list:\", square2)\n"
   ]
  },
  {
   "cell_type": "markdown",
   "id": "de750b5a",
   "metadata": {},
   "source": [
    "### Check if a string is palindrome or not"
   ]
  },
  {
   "cell_type": "code",
   "execution_count": 94,
   "id": "c0dbc5a2",
   "metadata": {},
   "outputs": [
    {
     "name": "stdout",
     "output_type": "stream",
     "text": [
      "The string is a palindrome.\n"
     ]
    }
   ],
   "source": [
    "def is_palindrome(string):\n",
    "    # Optional: normalize string (remove spaces, convert to lowercase)\n",
    "    string = string.replace(\" \", \"\").lower()\n",
    "    \n",
    "    return string == string[::-1]\n",
    "\n",
    "# Get input from user\n",
    "text = input(\"Enter a string: \")\n",
    "\n",
    "# Call the function and print result\n",
    "if is_palindrome(text):\n",
    "    print(\"The string is a palindrome.\")\n",
    "else:\n",
    "    print(\"The string is not a palindrome.\")\n"
   ]
  },
  {
   "cell_type": "markdown",
   "id": "7feb9e93",
   "metadata": {},
   "source": [
    "### Find the largest number in a list\n"
   ]
  },
  {
   "cell_type": "code",
   "execution_count": 95,
   "id": "0c50497f",
   "metadata": {},
   "outputs": [
    {
     "name": "stdout",
     "output_type": "stream",
     "text": [
      "5\n"
     ]
    }
   ],
   "source": [
    "list1 = [1, 2, 3, 4, 5]\n",
    "print(max(list1))"
   ]
  },
  {
   "cell_type": "markdown",
   "id": "552cfb98",
   "metadata": {},
   "source": [
    "### Count the number of vowels in a string"
   ]
  },
  {
   "cell_type": "code",
   "execution_count": 113,
   "id": "e3fd6e4d",
   "metadata": {},
   "outputs": [
    {
     "name": "stdout",
     "output_type": "stream",
     "text": [
      "Number of digits in the string: 5\n"
     ]
    }
   ],
   "source": [
    "user_input = input(\"Enter a string: \")\n",
    "count = 0\n",
    "\n",
    "for char in user_input:\n",
    "    if char:\n",
    "        count += 1\n",
    "\n",
    "print(f\"Number of digits in the string: {count}\")"
   ]
  },
  {
   "cell_type": "markdown",
   "id": "8b025dcd",
   "metadata": {},
   "source": [
    "### Create a list of squares from 1 to 10 using list comprehension.\n",
    "\n"
   ]
  },
  {
   "cell_type": "code",
   "execution_count": 116,
   "id": "2bafc03a",
   "metadata": {},
   "outputs": [
    {
     "name": "stdout",
     "output_type": "stream",
     "text": [
      "[1, 4, 9, 16, 25, 36, 49, 64, 81, 100]\n"
     ]
    }
   ],
   "source": [
    "squares1 = [x**2 for x in range(1, 11)]\n",
    "print(squares1)"
   ]
  },
  {
   "cell_type": "code",
   "execution_count": 120,
   "id": "6013b3ce",
   "metadata": {},
   "outputs": [
    {
     "name": "stdout",
     "output_type": "stream",
     "text": [
      "Sorted list: [2, 2, 3, 4, 6, 6, 6, 78, 99, 100, 100]\n"
     ]
    }
   ],
   "source": [
    "list1 = [100, 2, 100, 3, 4, 2, 6, 78, 6, 99, 6]\n",
    "sorted_list = sorted(list1)\n",
    "print(\"Sorted list:\", sorted_list)"
   ]
  },
  {
   "cell_type": "markdown",
   "id": "415e2ad4",
   "metadata": {},
   "source": [
    "### Write a function to check if a number is prime"
   ]
  },
  {
   "cell_type": "code",
   "execution_count": null,
   "id": "1e56a2d2",
   "metadata": {},
   "outputs": [],
   "source": [
    "def is_prime(num):\n",
    "    \"\"\"Check if a number is prime.\"\"\"\n",
    "    if num <= 1:\n",
    "        return False\n",
    "    if num == 2:\n",
    "        return True\n",
    "    if num % 2 == 0:\n",
    "        return False\n",
    "    for i in range(3, int(num ** 0.5) + 1, 2):\n",
    "        if num % i == 0:\n",
    "            return False\n",
    "    return True\n",
    "\n",
    "# Example usage:\n",
    "print(is_prime(a))  # Uses variable 'a' defined in the notebook"
   ]
  },
  {
   "cell_type": "markdown",
   "id": "ed157c95",
   "metadata": {},
   "source": [
    "### Find the factorial of a number using recursion.\n",
    "\n"
   ]
  },
  {
   "cell_type": "code",
   "execution_count": 136,
   "id": "43254616",
   "metadata": {},
   "outputs": [
    {
     "name": "stdout",
     "output_type": "stream",
     "text": [
      "Factorial of 5 is: 120\n"
     ]
    }
   ],
   "source": [
    "def factorial(n):\n",
    "    if n == 0 or n == 1:\n",
    "        return 1\n",
    "    else:\n",
    "        return n * factorial(n - 1)\n",
    "\n",
    "# Example usage\n",
    "num = int(input(\"Enter a number: \"))\n",
    "result = factorial(num)\n",
    "print(f\"Factorial of {num} is: {result}\")\n"
   ]
  },
  {
   "cell_type": "markdown",
   "id": "e9303e2d",
   "metadata": {},
   "source": [
    "###    Remove duplicates from a list"
   ]
  },
  {
   "cell_type": "code",
   "execution_count": 137,
   "id": "dba561f8",
   "metadata": {},
   "outputs": [
    {
     "name": "stdout",
     "output_type": "stream",
     "text": [
      "Unique numbers: {1, 2, 3, 4, 5}\n"
     ]
    }
   ],
   "source": [
    "numbers = [1, 2, 3, 2, 4, 3, 5, 1]\n",
    "unique_numbers = set(numbers)\n",
    "print(\"Unique numbers:\", unique_numbers)"
   ]
  }
 ],
 "metadata": {
  "kernelspec": {
   "display_name": "Python 3",
   "language": "python",
   "name": "python3"
  },
  "language_info": {
   "codemirror_mode": {
    "name": "ipython",
    "version": 3
   },
   "file_extension": ".py",
   "mimetype": "text/x-python",
   "name": "python",
   "nbconvert_exporter": "python",
   "pygments_lexer": "ipython3",
   "version": "3.13.4"
  }
 },
 "nbformat": 4,
 "nbformat_minor": 5
}
