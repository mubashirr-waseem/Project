{
 "cells": [
  {
   "cell_type": "markdown",
   "id": "aed95d25",
   "metadata": {},
   "source": [
    "# TESTING"
   ]
  },
  {
   "cell_type": "code",
   "execution_count": 63,
   "id": "a82e25bd",
   "metadata": {},
   "outputs": [
    {
     "name": "stdout",
     "output_type": "stream",
     "text": [
      "hello World\n",
      "x is not less than y\n",
      "5\n"
     ]
    }
   ],
   "source": [
    "print(\"hello World\")\n",
    "x = 15\n",
    "y = 10\n",
    "\n",
    "if x < y:\n",
    "    print(\"x is less than y\")\n",
    "else:\n",
    "    print(\"x is not less than y\")\n",
    "\n",
    "print (x-y)"
   ]
  },
  {
   "cell_type": "code",
   "execution_count": 64,
   "id": "59d38c60",
   "metadata": {},
   "outputs": [
    {
     "name": "stdout",
     "output_type": "stream",
     "text": [
      "[1, 2, 3, 4, 5, 6, 7, 8, 9, 10]\n"
     ]
    }
   ],
   "source": [
    "a = [1, 2, 3, 4, 5]\n",
    "b = [6, 7, 8, 9, 10]\n",
    "c = a + b\n",
    "print(c)"
   ]
  },
  {
   "cell_type": "markdown",
   "id": "03e3e3ae",
   "metadata": {},
   "source": [
    "## If Else Elif Statements "
   ]
  },
  {
   "cell_type": "code",
   "execution_count": 65,
   "id": "de490e17",
   "metadata": {},
   "outputs": [
    {
     "name": "stdout",
     "output_type": "stream",
     "text": [
      "{1: False, 2: True, 3: False, 4: True, 5: False, 6: True, 7: False, 8: True, 9: False}\n",
      "[2, 4, 6, 8]\n"
     ]
    }
   ],
   "source": [
    "select_field = {i: True \n",
    "                if i % 2 == 0 \n",
    "                else False \n",
    "                for i in range(1, 10)}\n",
    "print(select_field)\n",
    "\n",
    "# Output only even values\n",
    "even_values = [k for k, v in select_field.items() if v]\n",
    "print(even_values)"
   ]
  },
  {
   "cell_type": "code",
   "execution_count": 66,
   "id": "847cc2ab",
   "metadata": {},
   "outputs": [
    {
     "name": "stdout",
     "output_type": "stream",
     "text": [
      "30\n",
      "False\n",
      "Copy hai To Car Chalao\n"
     ]
    }
   ],
   "source": [
    "x = 0\n",
    "y = 0  \n",
    "z = 30\n",
    "\n",
    "# Checking if x, y, or z is true\n",
    "if x:\n",
    "    print(x)\n",
    "elif y:\n",
    "    print(y)    \n",
    "elif z:\n",
    "    print(z)\n",
    "else:\n",
    "    print(\"None of the variables are true\")\n",
    "\n",
    "# Checking if z is greater than or equal to 40\n",
    "if z >= 40:\n",
    "    print(True)\n",
    "else:\n",
    "    print(False)\n",
    "\n",
    "# Nested if-else statements to check age, license, and copy\n",
    "age = 18\n",
    "license = True\n",
    "copy = True\n",
    "\n",
    "if age >= 18:\n",
    "    if license:\n",
    "        if copy:\n",
    "            print(\"Copy hai To Car Chalao\")\n",
    "        else:\n",
    "            print(\"Copy Le kr Ao\")\n",
    "    else:\n",
    "        print(\"License nahi hai, Car nahi chala sakte\")\n",
    "else:\n",
    "    print(\"You are too young to drive\")"
   ]
  },
  {
   "cell_type": "markdown",
   "id": "0405364d",
   "metadata": {},
   "source": [
    "## LOOPS\n",
    "While\n"
   ]
  },
  {
   "cell_type": "code",
   "execution_count": 67,
   "id": "6419dde4",
   "metadata": {},
   "outputs": [
    {
     "name": "stdout",
     "output_type": "stream",
     "text": [
      "I want more water\n",
      "I eat pani 1 times\n",
      "I want more water\n",
      "I eat pani 2 times\n",
      "I want more water\n",
      "I eat pani 3 times\n",
      "I want more water\n",
      "BSS Aur Nahi Chahiye\n"
     ]
    }
   ],
   "source": [
    "Panikaglass = 0\n",
    "\n",
    "while Panikaglass < 9:\n",
    "    Panikaglass += 1\n",
    "    print (\"I want more water\")\n",
    "    if Panikaglass == 4:\n",
    "        print(\"BSS Aur Nahi Chahiye\")\n",
    "        break\n",
    "    print(\"I eat pani\", Panikaglass, \"times\")"
   ]
  },
  {
   "cell_type": "markdown",
   "id": "1b2760af",
   "metadata": {},
   "source": [
    "## Try Except Finaly"
   ]
  },
  {
   "cell_type": "code",
   "execution_count": 2,
   "id": "488538b4",
   "metadata": {},
   "outputs": [
    {
     "name": "stdout",
     "output_type": "stream",
     "text": [
      "I am trying to divide\n",
      "You cannot divide by zero\n",
      "This will always execute, regardless of an error\n"
     ]
    }
   ],
   "source": [
    "try:\n",
    "    print(\"I am trying to divide\")\n",
    "    result = 0 / 0\n",
    "    print(\"Result is:\", result)\n",
    "except ZeroDivisionError:\n",
    "    print(\"You cannot divide by zero\")\n",
    "finally:    \n",
    "    print(\"This will always execute, regardless of an error\")"
   ]
  },
  {
   "cell_type": "markdown",
   "id": "36d430c9",
   "metadata": {},
   "source": [
    "# User Defined Function"
   ]
  },
  {
   "cell_type": "code",
   "execution_count": 15,
   "id": "a41522de",
   "metadata": {},
   "outputs": [
    {
     "data": {
      "text/plain": [
       "3.0"
      ]
     },
     "execution_count": 15,
     "metadata": {},
     "output_type": "execute_result"
    }
   ],
   "source": [
    "def mean_list(numbers):\n",
    "    return sum(numbers) / len(numbers)\n",
    "\n",
    "price = [1, 2, 3, 4, 5]\n",
    "mean_list(price)"
   ]
  },
  {
   "cell_type": "code",
   "execution_count": 16,
   "id": "a86d0298",
   "metadata": {},
   "outputs": [
    {
     "data": {
      "text/plain": [
       "17200.0"
      ]
     },
     "execution_count": 16,
     "metadata": {},
     "output_type": "execute_result"
    }
   ],
   "source": [
    "price_list = [1000, 5000, 10000, 20000, 50000]\n",
    "mean_list(price_list)"
   ]
  },
  {
   "cell_type": "code",
   "execution_count": 1,
   "id": "e0bdbc5c",
   "metadata": {},
   "outputs": [],
   "source": [
    "# Lambda Function\n",
    "\n",
    "divide_lambda = lambda x, y: x / y if y != 0 else \"Cannot divide by zero\"\n"
   ]
  },
  {
   "cell_type": "code",
   "execution_count": 6,
   "id": "f8bb2d14",
   "metadata": {},
   "outputs": [
    {
     "data": {
      "text/plain": [
       "2.0"
      ]
     },
     "execution_count": 6,
     "metadata": {},
     "output_type": "execute_result"
    }
   ],
   "source": [
    "divide_lambda(10, 5)"
   ]
  },
  {
   "cell_type": "code",
   "execution_count": 15,
   "id": "aca80006",
   "metadata": {},
   "outputs": [
    {
     "name": "stdout",
     "output_type": "stream",
     "text": [
      "125\n"
     ]
    }
   ],
   "source": [
    "numbers = [5]\n",
    "\n",
    "cube_number = map(lambda x: x**3, numbers)\n",
    "print(list(cube_number)[0])"
   ]
  },
  {
   "cell_type": "markdown",
   "id": "e5824714",
   "metadata": {},
   "source": [
    "## Input Function"
   ]
  },
  {
   "cell_type": "code",
   "execution_count": 19,
   "id": "169700b6",
   "metadata": {},
   "outputs": [
    {
     "name": "stdout",
     "output_type": "stream",
     "text": [
      "Hello, Mubashir! Welcome to the program. You are 20 years old.\n"
     ]
    }
   ],
   "source": [
    "name = input(\"Enter your name: \")\n",
    "Age = input(\"Enter your age: \")\n",
    "# Example of using the input values\n",
    "print(f\"Hello, {name}! Welcome to the program. You are {Age} years old.\")"
   ]
  },
  {
   "cell_type": "code",
   "execution_count": 26,
   "id": "9e0d4842",
   "metadata": {},
   "outputs": [
    {
     "name": "stdout",
     "output_type": "stream",
     "text": [
      "Please enter a valid age.\n"
     ]
    }
   ],
   "source": [
    "age = input(\"Enter your age: \")\n",
    "if age.isdigit():\n",
    "    age = int(age)\n",
    "    print(age)\n",
    "else:   \n",
    "    print(\"Please enter a valid age.\")"
   ]
  },
  {
   "cell_type": "code",
   "execution_count": null,
   "id": "f011ffca",
   "metadata": {},
   "outputs": [
    {
     "name": "stdout",
     "output_type": "stream",
     "text": [
      "19\n"
     ]
    }
   ],
   "source": [
    "# Age Find in decimal format\n",
    "age_1 = input(\"Enter your age: \")\n",
    "try:\n",
    "    age = float(age_1)\n",
    "    print(age_1)\n",
    "except ValueError:\n",
    "    print(\"Please enter a valid age.\")"
   ]
  },
  {
   "cell_type": "code",
   "execution_count": null,
   "id": "3db0e403",
   "metadata": {},
   "outputs": [
    {
     "name": "stdout",
     "output_type": "stream",
     "text": [
      "Hello, how are you?\n"
     ]
    }
   ],
   "source": [
    "Nationality = input()\n",
    "if Nationality == \"Pakistan\":\n",
    "    print(\"Asalam o Alaikum\")\n",
    "else:\n",
    "    print(\"Hello, how are you?\")   "
   ]
  },
  {
   "cell_type": "code",
   "execution_count": 37,
   "id": "9c8b614d",
   "metadata": {},
   "outputs": [
    {
     "name": "stdout",
     "output_type": "stream",
     "text": [
      "Name: Mubashir, Age: 23, City: RYK\n"
     ]
    }
   ],
   "source": [
    "# Input multiple values and split them\n",
    "name, age, city = input(\"Enter your name, age, and city separated by Comma: \").split(',')\n",
    "print(f\"Name: {name}, Age: {age}, City: {city}\")"
   ]
  },
  {
   "cell_type": "markdown",
   "id": "f55351e1",
   "metadata": {},
   "source": [
    "# __str__() or __repr__()"
   ]
  },
  {
   "cell_type": "code",
   "execution_count": 48,
   "id": "fe98d399",
   "metadata": {},
   "outputs": [
    {
     "name": "stdout",
     "output_type": "stream",
     "text": [
      "Alice, 25 years old. Lives in New York.\n"
     ]
    }
   ],
   "source": [
    "# Str and repr\n",
    "class Person:\n",
    "    def __init__(self, name, age, city):\n",
    "        self.name = name\n",
    "        self.age = age\n",
    "        self.city = city\n",
    "    def __repr__(self):\n",
    "        return f\"Person(name={self.name}, age={self.age}, city={self.city})\"\n",
    "\n",
    "    def __str__(self):\n",
    "        return f\"{self.name}, {self.age} years old. Lives in {self.city}.\"\n",
    "\n",
    "p = Person(\"Alice\", 25, \"New York\")\n",
    "print(p)\n"
   ]
  },
  {
   "cell_type": "markdown",
   "id": "d8d904c3",
   "metadata": {},
   "source": [
    "# Generator\n"
   ]
  },
  {
   "cell_type": "code",
   "execution_count": 2,
   "id": "26344556",
   "metadata": {},
   "outputs": [
    {
     "name": "stdout",
     "output_type": "stream",
     "text": [
      "1\n"
     ]
    }
   ],
   "source": [
    "def my_gen():\n",
    "    yield 1\n",
    "    yield 2\n",
    "    yield 3\n",
    "gen = my_gen()\n",
    "print(next(gen))  # Output: 1"
   ]
  },
  {
   "cell_type": "code",
   "execution_count": 1,
   "id": "734ff0dc",
   "metadata": {},
   "outputs": [
    {
     "name": "stdout",
     "output_type": "stream",
     "text": [
      "Age: 19, Name: 1\n"
     ]
    }
   ],
   "source": [
    "age, name = input(\"Enter your age and name separated by a comma: \").split(',')\n",
    "print(f\"Age: {age}, Name: {name}\")\n"
   ]
  },
  {
   "cell_type": "markdown",
   "id": "a9a89aa2",
   "metadata": {},
   "source": [
    "# CHECKING"
   ]
  },
  {
   "cell_type": "code",
   "execution_count": 9,
   "id": "495dd5e8",
   "metadata": {},
   "outputs": [
    {
     "name": "stdout",
     "output_type": "stream",
     "text": [
      "You are a minor 15 Years old\n"
     ]
    }
   ],
   "source": [
    "age = input(\"Enter your age: \")\n",
    "try:\n",
    "    age = int(age)\n",
    "except ValueError:\n",
    "    print(\"Please enter a valid age.\")\n",
    "if age >= 18:\n",
    "    print(\"You are an adult \" + str(age) + \" Years old\")\n",
    "elif age >= 16:\n",
    "    print(\"You are exactly \" + str(age) + \" years old\")\n",
    "else:\n",
    "    print(\"You are a minor \" + str(age) + \" Years old\")   "
   ]
  }
 ],
 "metadata": {
  "kernelspec": {
   "display_name": "Python 3",
   "language": "python",
   "name": "python3"
  },
  "language_info": {
   "codemirror_mode": {
    "name": "ipython",
    "version": 3
   },
   "file_extension": ".py",
   "mimetype": "text/x-python",
   "name": "python",
   "nbconvert_exporter": "python",
   "pygments_lexer": "ipython3",
   "version": "3.13.4"
  }
 },
 "nbformat": 4,
 "nbformat_minor": 5
}
